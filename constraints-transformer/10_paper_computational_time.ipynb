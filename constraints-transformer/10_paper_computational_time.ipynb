{
 "cells": [
  {
   "cell_type": "code",
   "execution_count": 36,
   "metadata": {},
   "outputs": [],
   "source": [
    "import os\n",
    "from datetime import datetime\n",
    "\n",
    "# Function to get the creation time of a file\n",
    "def get_creation_time(file_path):\n",
    "    return os.path.getctime(file_path)\n",
    "\n",
    "# Function to calculate the average time taken to create the files\n",
    "def calculate_average_time(folder_path, file_ending='.pkl'):\n",
    "    # Get a list of all files in the directory\n",
    "    files = [os.path.join(folder_path, f) for f in os.listdir(folder_path) if f.endswith(file_ending)]\n",
    "    \n",
    "    if len(files) < 2:\n",
    "        raise ValueError(f\"The folder must contain at least two {file_ending}files to calculate the average time.\")\n",
    "\n",
    "    # Sort files by creation time\n",
    "    files.sort(key=get_creation_time)\n",
    "\n",
    "    # Get the creation time of the first and last files\n",
    "    first_file_time = get_creation_time(files[0])\n",
    "    last_file_time = get_creation_time(files[-1])\n",
    "\n",
    "    # Calculate the total time difference in seconds\n",
    "    total_time_diff = last_file_time - first_file_time\n",
    "\n",
    "    # Calculate the average time per file\n",
    "    average_time_per_file = total_time_diff / (len(files) - 1)\n",
    "\n",
    "    return average_time_per_file\n",
    "\n",
    "# Function to get the creation time of a directory\n",
    "def get_creation_time(dir_path):\n",
    "    return os.path.getctime(dir_path)\n",
    "\n",
    "# Function to get the creation time of the first and last directories\n",
    "def calculate_average_time_for_folders(main_folder_path):\n",
    "    # Get a list of all directories in the main folder\n",
    "    directories = [os.path.join(main_folder_path, d) for d in os.listdir(main_folder_path) if os.path.isdir(os.path.join(main_folder_path, d))]\n",
    "    \n",
    "    if len(directories) < 2:\n",
    "        raise ValueError(\"The main folder must contain at least two subdirectories to calculate the average time.\")\n",
    "\n",
    "    # Sort directories by creation time\n",
    "    directories.sort(key=get_creation_time)\n",
    "\n",
    "    # Get the creation time of the first and last directories\n",
    "    first_dir_time = get_creation_time(directories[0])\n",
    "    last_dir_time = get_creation_time(directories[-1])\n",
    "\n",
    "    # Calculate the total time difference in seconds\n",
    "    total_time_diff = last_dir_time - first_dir_time\n",
    "\n",
    "    # Calculate the average time per directory\n",
    "    average_time_per_directory = total_time_diff / (len(directories) - 1)\n",
    "\n",
    "    return average_time_per_directory"
   ]
  },
  {
   "cell_type": "markdown",
   "metadata": {},
   "source": [
    "Inference time per log (time to generate the constraints)"
   ]
  },
  {
   "cell_type": "code",
   "execution_count": 3,
   "metadata": {},
   "outputs": [
    {
     "name": "stdout",
     "output_type": "stream",
     "text": [
      "xSemAD: The average inference time is 3.6 seconds.\n"
     ]
    }
   ],
   "source": [
    "folder_path = 'data/evaluation/sap_sam_2022/filtered/test/new/google/flan-t5-small_checkpoint-127200/checkpoint-42400/'\n",
    "average_time = round(calculate_average_time(folder_path),2)\n",
    "print(f\"xSemAD: The average inference time is {average_time} seconds.\")"
   ]
  },
  {
   "cell_type": "code",
   "execution_count": 7,
   "metadata": {},
   "outputs": [
    {
     "name": "stdout",
     "output_type": "stream",
     "text": [
      "MINERFUL: The average inference time is 1.91 seconds.\n"
     ]
    }
   ],
   "source": [
    "folder_path = 'data/sap_sam_2022/filtered/MINERFUL/testset/constraints/'\n",
    "average_time = round(calculate_average_time(folder_path, '.json'),2)\n",
    "print(f\"MINERFUL: The average inference time is {average_time} seconds.\")"
   ]
  },
  {
   "cell_type": "code",
   "execution_count": 20,
   "metadata": {},
   "outputs": [
    {
     "name": "stdout",
     "output_type": "stream",
     "text": [
      "DECLAREMINER: The average inference time is 17.26 seconds.\n"
     ]
    }
   ],
   "source": [
    "folder_path = 'data/sap_sam_2022/filtered/DECLAREMINER/testset/constraints/'\n",
    "average_time = round(calculate_average_time(folder_path),2)\n",
    "print(f\"DECLAREMINER: The average inference time is {average_time} seconds.\")"
   ]
  },
  {
   "cell_type": "code",
   "execution_count": 17,
   "metadata": {},
   "outputs": [
    {
     "name": "stdout",
     "output_type": "stream",
     "text": [
      "BERT: The average inference time is 2.98 seconds.\n"
     ]
    }
   ],
   "source": [
    "folder_path = '../../../ml-semantic-anomaly-dection/ml-semantic-anomaly-dection/output/sap_sam_2022/filtered/test/BERT/'\n",
    "average_time = round(calculate_average_time(folder_path),2)\n",
    "print(f\"BERT: The average inference time is {average_time} seconds.\")"
   ]
  },
  {
   "cell_type": "code",
   "execution_count": 16,
   "metadata": {},
   "outputs": [
    {
     "name": "stdout",
     "output_type": "stream",
     "text": [
      "SVM: The average inference time is 11.23 seconds.\n"
     ]
    }
   ],
   "source": [
    "folder_path = '../../../ml-semantic-anomaly-dection/ml-semantic-anomaly-dection/output/sap_sam_2022/filtered/test/SVM/'\n",
    "average_time = round(calculate_average_time(folder_path),2)\n",
    "print(f\"SVM: The average inference time is {average_time} seconds.\")"
   ]
  },
  {
   "cell_type": "markdown",
   "metadata": {},
   "source": [
    "training time"
   ]
  },
  {
   "cell_type": "code",
   "execution_count": 59,
   "metadata": {},
   "outputs": [
    {
     "name": "stdout",
     "output_type": "stream",
     "text": [
      "Training xSemAD: 817205.0 seconds\n",
      "Training xSemAD: 13620.08 min\n",
      "Training xSemAD: 227.0 hours\n",
      "Training xSemAD: 9.46 days\n"
     ]
    }
   ],
   "source": [
    "# xSemAD\n",
    "folder_path='data/model/sap_sam_2022/filtered/google/flan-t5-small/'\n",
    "training_xSemAD_sec = round(calculate_average_time_for_folders(folder_path) * (127_200/400),2)# Checkpoint: 127_200, save every 400  \n",
    "training_xSemAD_min = round(training_xSemAD_sec/60, 2)\n",
    "training_xSemAD_hours = round(training_xSemAD_min/60, 2)\n",
    "training_xSemAD_days = round(training_xSemAD_hours/24, 2)\n",
    "print(f\"Training xSemAD: {training_xSemAD_sec} seconds\")\n",
    "print(f\"Training xSemAD: {training_xSemAD_min} min\")\n",
    "print(f\"Training xSemAD: {training_xSemAD_hours} hours\")\n",
    "print(f\"Training xSemAD: {training_xSemAD_days} days\")"
   ]
  },
  {
   "cell_type": "code",
   "execution_count": 61,
   "metadata": {},
   "outputs": [
    {
     "name": "stdout",
     "output_type": "stream",
     "text": [
      "SVM\n",
      "3.4  min total\n",
      "BERT\n",
      "274.8  min total\n"
     ]
    }
   ],
   "source": [
    "# SVM training\n",
    "print('SVM')\n",
    "# total pairs 475306\n",
    "print('3.4  min total')\n",
    "\n",
    "# BERT training\n",
    "print('BERT')\n",
    "print('274.8  min total')"
   ]
  },
  {
   "cell_type": "code",
   "execution_count": null,
   "metadata": {},
   "outputs": [],
   "source": []
  }
 ],
 "metadata": {
  "kernelspec": {
   "display_name": "xSemAD",
   "language": "python",
   "name": "python3"
  },
  "language_info": {
   "codemirror_mode": {
    "name": "ipython",
    "version": 3
   },
   "file_extension": ".py",
   "mimetype": "text/x-python",
   "name": "python",
   "nbconvert_exporter": "python",
   "pygments_lexer": "ipython3",
   "version": "3.10.14"
  }
 },
 "nbformat": 4,
 "nbformat_minor": 2
}
