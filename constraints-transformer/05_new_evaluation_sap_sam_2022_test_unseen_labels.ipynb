{
 "cells": [
  {
   "cell_type": "code",
   "execution_count": 5,
   "metadata": {},
   "outputs": [],
   "source": [
    "import os\n",
    "import pickle\n",
    "from tqdm import tqdm\n",
    "import numpy as np\n",
    "import pandas as pd\n",
    "from evaluation.utils import sort_constraints"
   ]
  },
  {
   "cell_type": "code",
   "execution_count": 6,
   "metadata": {},
   "outputs": [],
   "source": [
    "MODEL_NAME = 'label2constraint'\n",
    "dataset='sap_sam_2022/filtered'\n",
    "path_to_true_constraints = f'data/{dataset}/constraints_to_log_labels/'\n",
    "path_to_pred_constraints = f'data/evaluation/{dataset}/test/new/google/flan-t5-small_checkpoint-118800/'\n",
    "constraint_type='DECLARE'\n",
    "constraints_dir = f'data/{dataset}/constraints'\n",
    "path_to_all_constraint_types_file = os.path.join(constraints_dir,f'ALL_CONSTRAINT_TYPES.{constraint_type}.pkl')\n",
    "#evaluation_output_file_name = f'evaluation_sap_sam_2022_test_{MODEL_NAME}_{anaysis_tape}.pkl'\n",
    "tresholds = np.arange(0.5,.975,.01) #[.3, .9]"
   ]
  },
  {
   "cell_type": "code",
   "execution_count": 7,
   "metadata": {},
   "outputs": [],
   "source": [
    "with open('../../ml-semantic-anomaly-dection/evaluation_sap_sam_2022_test_case_names_unseen_labels.pkl', 'rb') as f:\n",
    "    model_case_names = pickle.load(f)\n",
    "\n",
    "#get all possible constraint types\n",
    "with open(path_to_all_constraint_types_file,'rb') as f:\n",
    "    all_constraint_types = pickle.load(f)"
   ]
  },
  {
   "cell_type": "code",
   "execution_count": 8,
   "metadata": {},
   "outputs": [],
   "source": [
    "def calculate_precision_recall_f1(true_list, prediction_list):\n",
    "    intersection_num = len(list(set(true_list).intersection(set(prediction_list))))\n",
    "    recall = intersection_num/len(true_list)\n",
    "    if len(prediction_list)!=0:\n",
    "        precision = intersection_num/len(prediction_list)\n",
    "        if (precision+recall)!= 0:\n",
    "            f1 = (2*precision*recall)/(precision+recall)\n",
    "            return precision, recall, f1\n",
    "        return precision, recall, 0\n",
    "    else:\n",
    "        precision = 0\n",
    "        if (precision+recall)!= 0:\n",
    "            f1 = (2*precision*recall)/(precision+recall)\n",
    "            return precision, recall, f1\n",
    "        return precision, recall, 0"
   ]
  },
  {
   "cell_type": "code",
   "execution_count": null,
   "metadata": {},
   "outputs": [],
   "source": []
  },
  {
   "cell_type": "code",
   "execution_count": 9,
   "metadata": {},
   "outputs": [
    {
     "name": "stderr",
     "output_type": "stream",
     "text": [
      "make predictions: 100%|██████████| 377/377 [00:00<00:00, 2906.61it/s]\n"
     ]
    }
   ],
   "source": [
    "anaysis_tape='for_comparison_set_unseen_labels_individual_thresholds'\n",
    "evaluation_output_file_name = f'evaluation_sap_sam_2022_test_{MODEL_NAME}_{anaysis_tape}_new.pkl'\n",
    "CONSTRAINT_TYPE=['Response', 'Precedence','Succession','Alternate Succession', 'Alternate Precedence','Alternate Response','Co-Existence'] # ,'Choice'\n",
    "evaluation_results = []\n",
    "\n",
    "# load opt thresholds for each constraint\n",
    "with open('evaluation_sap_sam_2022_validation_opt_thresholds.pkl', 'rb') as f:\n",
    "    opt_thresholds = pickle.load(f)\n",
    "\n",
    "path_to_all_constraint_types_file = os.path.join(constraints_dir,f'ALL_CONSTRAINT_TYPES.{constraint_type}.pkl')\n",
    "with open(path_to_all_constraint_types_file,'rb') as f:\n",
    "    all_constraint_types = pickle.load(f)\n",
    "\n",
    "for model_case_name in tqdm(model_case_names,desc='make predictions'):\n",
    "    with open(f'{path_to_true_constraints}{model_case_name}.CONSTRAINTS.pkl','rb') as f:\n",
    "        true_constraints = sort_constraints(pickle.load(f), remove_duplicates=True)\n",
    "        all_constraint_types_in_model = list(set([i.split('[')[0] for i in true_constraints]))\n",
    "\n",
    "    with open(f'{path_to_pred_constraints}{model_case_name}.pkl','rb') as f:\n",
    "        pred_file = pickle.load(f)\n",
    "    pred_pairs_file=[]\n",
    "    for i in pred_file:\n",
    "        pred_pairs_file+=i[1]\n",
    "    \n",
    "    \n",
    "        \n",
    "    true_pairs=[]\n",
    "    pred_pairs=[]\n",
    "    for c in list(all_constraint_types):\n",
    "        if c in CONSTRAINT_TYPE:\n",
    "            \n",
    "            pred_pairs_temp = [i for i in pred_pairs_file if i[1]>opt_thresholds[c]]\n",
    "\n",
    "            true_pairs_ = [i.split('[')[1][:-1] for i in true_constraints if i.startswith(c+ '[') ]\n",
    "            true_pairs+=true_pairs_\n",
    "            pred_pairs_ = [i[0].split('[')[1][:-1] for i in pred_pairs_temp if i[0].startswith(c+ '[')] \n",
    "            pred_pairs+=pred_pairs_\n",
    "    if len(true_pairs)>0:\n",
    "        precision, recall, f1 = calculate_precision_recall_f1(true_list=list(set(true_pairs)), prediction_list=list(set(pred_pairs)))\n",
    "        evaluation_results.append({'constraint_type':anaysis_tape, 'model':MODEL_NAME, 'precision':precision,'recall':recall,'f1':f1, 'case_name':model_case_name})\n",
    "                   \n",
    "df = pd.DataFrame(evaluation_results)\n",
    "df.to_pickle(evaluation_output_file_name)   "
   ]
  },
  {
   "cell_type": "code",
   "execution_count": null,
   "metadata": {},
   "outputs": [],
   "source": []
  },
  {
   "cell_type": "code",
   "execution_count": null,
   "metadata": {},
   "outputs": [],
   "source": []
  },
  {
   "cell_type": "markdown",
   "metadata": {},
   "source": [
    "### without individual threshold "
   ]
  },
  {
   "cell_type": "code",
   "execution_count": 10,
   "metadata": {},
   "outputs": [
    {
     "name": "stderr",
     "output_type": "stream",
     "text": [
      "make predictions: 100%|██████████| 377/377 [00:01<00:00, 299.77it/s]\n"
     ]
    }
   ],
   "source": [
    "anaysis_tape='for_comparison_set_unseen_labels'\n",
    "evaluation_output_file_name = f'evaluation_sap_sam_2022_test_{MODEL_NAME}_{anaysis_tape}_new.pkl'\n",
    "CONSTRAINT_TYPE=['Response', 'Precedence','Succession','Alternate Succession', 'Alternate Precedence','Alternate Response','Co-Existence']#,'Choice'\n",
    "evaluation_results = []\n",
    "\n",
    "\n",
    "path_to_all_constraint_types_file = os.path.join(constraints_dir,f'ALL_CONSTRAINT_TYPES.{constraint_type}.pkl')\n",
    "with open(path_to_all_constraint_types_file,'rb') as f:\n",
    "    all_constraint_types = pickle.load(f)\n",
    "\n",
    "for model_case_name in tqdm(model_case_names,desc='make predictions'):\n",
    "    with open(f'{path_to_true_constraints}{model_case_name}.CONSTRAINTS.pkl','rb') as f:\n",
    "        true_constraints = sort_constraints(pickle.load(f), remove_duplicates=True)\n",
    "        all_constraint_types_in_model = list(set([i.split('[')[0] for i in true_constraints]))\n",
    "\n",
    "    with open(f'{path_to_pred_constraints}{model_case_name}.pkl','rb') as f:\n",
    "        pred_file = pickle.load(f)\n",
    "    pred_pairs_file=[]\n",
    "    for i in pred_file:\n",
    "        pred_pairs_file+=i[1]\n",
    "    \n",
    "    for treshold in tresholds:\n",
    "        pred_pairs_temp = [i for i in pred_pairs_file if i[1]>treshold]\n",
    "        \n",
    "        true_pairs=[]\n",
    "        pred_pairs=[]\n",
    "        for c in list(all_constraint_types):\n",
    "            if c in CONSTRAINT_TYPE:\n",
    "                true_pairs_ = [i.split('[')[1][:-1] for i in true_constraints if i.startswith(c+ '[') ]\n",
    "                true_pairs+=true_pairs_\n",
    "                pred_pairs_ = [i[0].split('[')[1][:-1] for i in pred_pairs_temp if i[0].startswith(c+ '[')] \n",
    "                pred_pairs+=pred_pairs_\n",
    "        if len(true_pairs)>0:\n",
    "            precision, recall, f1 = calculate_precision_recall_f1(true_list=list(set(true_pairs)), prediction_list=list(set(pred_pairs)))\n",
    "            evaluation_results.append({'constraint_type':anaysis_tape, 'model':MODEL_NAME,'threshold':treshold, 'precision':precision,'recall':recall,'f1':f1, 'case_name':model_case_name})\n",
    "                   \n",
    "df = pd.DataFrame(evaluation_results)\n",
    "df.to_pickle(evaluation_output_file_name)   "
   ]
  },
  {
   "cell_type": "code",
   "execution_count": 6,
   "metadata": {},
   "outputs": [
    {
     "name": "stderr",
     "output_type": "stream",
     "text": [
      "make predictions: 100%|██████████| 377/377 [00:00<00:00, 21990.86it/s]\n"
     ]
    }
   ],
   "source": [
    "anaysis_tape='seperated_unseen_labels'\n",
    "evaluation_output_file_name = f'evaluation_sap_sam_2022_test_{MODEL_NAME}_{anaysis_tape}_new.pkl'\n",
    "#CONSTRAINT_TYPE=['Response', 'Precedence','Succession','Alternate Succession', 'Alternate Precedence','Alternate Response','Choice','Co-Existence']\n",
    "evaluation_results = []\n",
    "\n",
    "\n",
    "path_to_all_constraint_types_file = os.path.join(constraints_dir,f'ALL_CONSTRAINT_TYPES.{constraint_type}.pkl')\n",
    "with open(path_to_all_constraint_types_file,'rb') as f:\n",
    "    all_constraint_types = sort_constraints(pickle.load(f), remove_duplicates=True)\n",
    "\n",
    "for model_case_name in tqdm(model_case_names,desc='make predictions'):\n",
    "    with open(f'{path_to_true_constraints}{model_case_name}.CONSTRAINTS.pkl','rb') as f:\n",
    "        true_constraints = pickle.load(f)\n",
    "        all_constraint_types_in_model = list(set([i.split('[')[0] for i in true_constraints]))\n",
    "\n",
    "    with open(f'{path_to_pred_constraints}{model_case_name}.pkl','rb') as f:\n",
    "        pred_file = pickle.load(f)\n",
    "    pred_pairs_file=[]\n",
    "    for i in pred_file:\n",
    "        pred_pairs_file+=i[1]\n",
    "        \n",
    "    for c in list(all_constraint_types):\n",
    "        if c in all_constraint_types_in_model:\n",
    "            true_pairs = [i.split('[')[1][:-1] for i in true_constraints if i.startswith(c+ '[') ]\n",
    "            pred_pairs_temp = [i for i in pred_pairs_file if i[0].startswith(c+ '[')] \n",
    "            for treshold in tresholds:\n",
    "                pred_pairs = [i[0].split('[')[1][:-1] for i in pred_pairs_temp if i[1]>treshold]\n",
    "                if len(true_pairs)>0:\n",
    "                    precision, recall,f1 = calculate_precision_recall_f1(true_list=true_pairs, prediction_list=pred_pairs)\n",
    "                    evaluation_results.append({'constraint_type':c, 'model':MODEL_NAME,'threshold':treshold, 'precision':precision,'recall':recall, 'f1':f1, 'case_name':model_case_name})\n",
    "                   \n",
    "df = pd.DataFrame(evaluation_results)\n",
    "df.to_pickle(evaluation_output_file_name)   "
   ]
  },
  {
   "cell_type": "code",
   "execution_count": 7,
   "metadata": {},
   "outputs": [
    {
     "name": "stderr",
     "output_type": "stream",
     "text": [
      "make predictions: 100%|██████████| 377/377 [00:01<00:00, 235.98it/s]\n"
     ]
    }
   ],
   "source": [
    "anaysis_tape='for_comparison_overall_performance_unseen_labels'\n",
    "evaluation_output_file_name = f'evaluation_sap_sam_2022_test_{MODEL_NAME}_{anaysis_tape}_new.pkl'\n",
    "CONSTRAINT_TYPE=['Alternate Precedence',\n",
    " 'Alternate Response',\n",
    " 'Alternate Succession',\n",
    " 'Choice',\n",
    " 'Co-Existence',\n",
    " 'End',\n",
    " 'Exclusive Choice',\n",
    " 'Init',\n",
    " 'Precedence',\n",
    " 'Response',\n",
    " 'Succession']\n",
    "evaluation_results = []\n",
    "\n",
    "\n",
    "path_to_all_constraint_types_file = os.path.join(constraints_dir,f'ALL_CONSTRAINT_TYPES.{constraint_type}.pkl')\n",
    "with open(path_to_all_constraint_types_file,'rb') as f:\n",
    "    all_constraint_types = pickle.load(f)\n",
    "\n",
    "for model_case_name in tqdm(model_case_names,desc='make predictions'):\n",
    "    with open(f'{path_to_true_constraints}{model_case_name}.CONSTRAINTS.pkl','rb') as f:\n",
    "        true_constraints = sort_constraints(pickle.load(f), remove_duplicates=True)\n",
    "        all_constraint_types_in_model = list(set([i.split('[')[0] for i in true_constraints]))\n",
    "\n",
    "    with open(f'{path_to_pred_constraints}{model_case_name}.pkl','rb') as f:\n",
    "        pred_file = pickle.load(f)\n",
    "    pred_pairs_file=[]\n",
    "    for i in pred_file:\n",
    "        pred_pairs_file+=i[1]\n",
    "    \n",
    "    for treshold in tresholds:\n",
    "        pred_pairs_temp = [i for i in pred_pairs_file if i[1]>treshold]\n",
    "        \n",
    "        true_pairs=[]\n",
    "        pred_pairs=[]\n",
    "        for c in list(all_constraint_types):\n",
    "            if c in CONSTRAINT_TYPE:\n",
    "                true_pairs_ = [i for i in true_constraints if i.startswith(c+ '[') ]\n",
    "                true_pairs+=true_pairs_\n",
    "                pred_pairs_ = [i[0] for i in pred_pairs_temp if i[0].startswith(c+ '[')] \n",
    "                pred_pairs+=pred_pairs_\n",
    "        if len(true_pairs)>0:\n",
    "            precision, recall,f1 = calculate_precision_recall_f1(true_list=true_pairs, prediction_list=pred_pairs)\n",
    "            evaluation_results.append({'constraint_type':anaysis_tape, 'model':MODEL_NAME,'threshold':treshold, 'precision':precision,'recall':recall,'f1':f1, 'case_name':model_case_name})\n",
    "                   \n",
    "df = pd.DataFrame(evaluation_results)\n",
    "df.to_pickle(evaluation_output_file_name)   "
   ]
  },
  {
   "cell_type": "code",
   "execution_count": null,
   "metadata": {},
   "outputs": [],
   "source": []
  },
  {
   "cell_type": "code",
   "execution_count": null,
   "metadata": {},
   "outputs": [],
   "source": []
  }
 ],
 "metadata": {
  "kernelspec": {
   "display_name": "transformer4bpm",
   "language": "python",
   "name": "python3"
  },
  "language_info": {
   "codemirror_mode": {
    "name": "ipython",
    "version": 3
   },
   "file_extension": ".py",
   "mimetype": "text/x-python",
   "name": "python",
   "nbconvert_exporter": "python",
   "pygments_lexer": "ipython3",
   "version": "3.8.13"
  }
 },
 "nbformat": 4,
 "nbformat_minor": 2
}
