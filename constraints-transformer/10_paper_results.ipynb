{
 "cells": [
  {
   "cell_type": "code",
   "execution_count": 47,
   "metadata": {},
   "outputs": [],
   "source": [
    "from tqdm import tqdm\n",
    "from evaluation.utils import evaluate_constraints\n",
    "import pickle\n",
    "import os\n",
    "import pandas as pd"
   ]
  },
  {
   "cell_type": "code",
   "execution_count": 52,
   "metadata": {},
   "outputs": [],
   "source": [
    "path_to_experiment_file='constraints'\n",
    "path_to_minerful_constraints = f'data/sap_sam_2022/filtered/MINERFUL/testset/{path_to_experiment_file}' \n",
    "test_case_names = [i.split('.')[0] for i in os.listdir(path_to_minerful_constraints)]"
   ]
  },
  {
   "cell_type": "code",
   "execution_count": 53,
   "metadata": {},
   "outputs": [],
   "source": [
    "path_to_unseen_labels = \"../../../ml-semantic-anomaly-dection/ml-semantic-anomaly-dection/evaluation_sap_sam_2022_test_case_names_unseen_labels.pkl\"\n",
    "with open(path_to_unseen_labels, 'rb') as f:\n",
    "    unseen_case_names = pickle.load(f)"
   ]
  },
  {
   "cell_type": "code",
   "execution_count": 50,
   "metadata": {},
   "outputs": [],
   "source": [
    "path_to_true_constraints='data/sap_sam_2022/filtered/constraints_to_log_labels'\n",
    "constraints_to_be_grouped = ['Response', 'Precedence','Succession','Alternate Succession', 'Alternate Precedence','Alternate Response','Choice','Co-Existence']\n",
    "\n",
    "models= [\n",
    "    (test_case_names, path_to_true_constraints, '../../../ml-semantic-anomaly-dection/ml-semantic-anomaly-dection/output/sap_sam_2022/filtered/test/SVM', 'SVM_evf', constraints_to_be_grouped, None,None, 'evaluation_sap_sam_2022_test'),\n",
    "    (test_case_names, path_to_true_constraints, '../../../ml-semantic-anomaly-dection/ml-semantic-anomaly-dection/output/sap_sam_2022/filtered/test/BERT', 'BERT_evf', constraints_to_be_grouped, None,None, 'evaluation_sap_sam_2022_test'),\n",
    "    (test_case_names, path_to_true_constraints, 'data/sap_sam_2022/filtered/MINERFUL/testset/constraints', 'MINERFUL_evf', constraints_to_be_grouped, None, 'evaluation_sap_sam_2022_test'),\n",
    "    (test_case_names, path_to_true_constraints, 'data/sap_sam_2022/filtered/MINERFUL/testset/constraints', 'MINERFUL_seperated', None, None,'evaluation_sap_sam_2022_test'),\n",
    "    (test_case_names, path_to_true_constraints, 'data/sap_sam_2022/filtered/DECLAREMINER/testset/constraints', 'DECLAREMINER_evf', constraints_to_be_grouped, None, 'evaluation_sap_sam_2022_test'),\n",
    "    (test_case_names, path_to_true_constraints, 'data/sap_sam_2022/filtered/DECLAREMINER/testset/constraints', 'DECLAREMINER_seperated', None, None,'evaluation_sap_sam_2022_test'),\n",
    "    (test_case_names, path_to_true_constraints, 'data/evaluation/sap_sam_2022/filtered/test/new/google/flan-t5-small_checkpoint-118800', 'xSemAD_evf', constraints_to_be_grouped, None, 0.73,'evaluation_sap_sam_2022_test'),\n",
    "    (test_case_names, path_to_true_constraints, 'data/evaluation/sap_sam_2022/filtered/test/new/google/flan-t5-small_checkpoint-118800', 'xSemAD_seperated', None, None,0.73,'evaluation_sap_sam_2022_test'),\n",
    "    # 100% UNSEEN DATA\n",
    "    (test_case_names, path_to_true_constraints, '../../../ml-semantic-anomaly-dection/ml-semantic-anomaly-dection/output/sap_sam_2022/filtered/test/SVM', 'SVM_evf_unseen', constraints_to_be_grouped, unseen_case_names,None, 'evaluation_sap_sam_2022_test'),\n",
    "    (test_case_names, path_to_true_constraints, '../../../ml-semantic-anomaly-dection/ml-semantic-anomaly-dection/output/sap_sam_2022/filtered/test/BERT', 'BERT_evf_unseen', constraints_to_be_grouped, unseen_case_names,None, 'evaluation_sap_sam_2022_test'),\n",
    "    (test_case_names, path_to_true_constraints, 'data/sap_sam_2022/filtered/MINERFUL/testset/constraints', 'MINERFUL_evf_unseen', constraints_to_be_grouped, unseen_case_names, 'evaluation_sap_sam_2022_test'),\n",
    "    (test_case_names, path_to_true_constraints, 'data/sap_sam_2022/filtered/DECLAREMINER/testset/constraints', 'DECLAREMINER_evf_unseen', constraints_to_be_grouped, unseen_case_names, 'evaluation_sap_sam_2022_test'),\n",
    "    (test_case_names, path_to_true_constraints, 'data/evaluation/sap_sam_2022/filtered/test/new/google/flan-t5-small_checkpoint-118800', 'xSemAD_evf_unseen', constraints_to_be_grouped, unseen_case_names, 0.73,'evaluation_sap_sam_2022_test'),\n",
    "    (test_case_names, path_to_true_constraints, 'data/sap_sam_2022/filtered/MINERFUL/testset/constraints', 'MINERFUL_seperated_unseen', None, unseen_case_names, 'evaluation_sap_sam_2022_test'),\n",
    "    (test_case_names, path_to_true_constraints, 'data/sap_sam_2022/filtered/DECLAREMINER/testset/constraints', 'DECLAREMINER_seperated_unseen', None, unseen_case_names, 'evaluation_sap_sam_2022_test'),\n",
    "    (test_case_names, path_to_true_constraints, 'data/evaluation/sap_sam_2022/filtered/test/new/google/flan-t5-small_checkpoint-118800', 'xSemAD_evf_unseen_065', constraints_to_be_grouped, unseen_case_names, 0.65,'evaluation_sap_sam_2022_test'),\n",
    "    (test_case_names, path_to_true_constraints, 'data/evaluation/sap_sam_2022/filtered/test/new/google/flan-t5-small_checkpoint-118800', 'xSemAD_seperated_unseen_065', None, unseen_case_names, 0.65,'evaluation_sap_sam_2022_test'),\n",
    "]"
   ]
  },
  {
   "cell_type": "code",
   "execution_count": 51,
   "metadata": {},
   "outputs": [
    {
     "name": "stdout",
     "output_type": "stream",
     "text": [
      "-----  SVM_evf  -----\n"
     ]
    },
    {
     "name": "stderr",
     "output_type": "stream",
     "text": [
      "process evaluation:   0%|          | 6/4055 [00:00<01:07, 59.80it/s]"
     ]
    },
    {
     "name": "stderr",
     "output_type": "stream",
     "text": [
      "process evaluation: 100%|██████████| 4055/4055 [01:17<00:00, 52.12it/s]\n"
     ]
    },
    {
     "name": "stdout",
     "output_type": "stream",
     "text": [
      "precision    0.37\n",
      "recall       0.70\n",
      "f1           0.46\n",
      "dtype: float64\n",
      "-----  BERT_evf  -----\n"
     ]
    },
    {
     "name": "stderr",
     "output_type": "stream",
     "text": [
      "process evaluation: 100%|██████████| 4055/4055 [00:46<00:00, 87.98it/s] \n"
     ]
    },
    {
     "name": "stdout",
     "output_type": "stream",
     "text": [
      "precision    0.37\n",
      "recall       0.70\n",
      "f1           0.46\n",
      "dtype: float64\n",
      "-----  MINERFUL_evf  -----\n"
     ]
    },
    {
     "name": "stderr",
     "output_type": "stream",
     "text": [
      "process evaluation: 100%|██████████| 4055/4055 [01:38<00:00, 41.05it/s]\n"
     ]
    },
    {
     "name": "stdout",
     "output_type": "stream",
     "text": [
      "precision    0.37\n",
      "recall       0.69\n",
      "f1           0.46\n",
      "dtype: float64\n",
      "-----  MINERFUL_seperated  -----\n"
     ]
    },
    {
     "name": "stderr",
     "output_type": "stream",
     "text": [
      "process evaluation: 100%|██████████| 4055/4055 [00:51<00:00, 78.47it/s] \n"
     ]
    },
    {
     "name": "stdout",
     "output_type": "stream",
     "text": [
      "         constraint_type  precision  recall    f1\n",
      "0   Alternate Precedence       0.09    0.70  0.14\n",
      "1     Alternate Response       0.07    0.68  0.12\n",
      "2   Alternate Succession       0.14    0.68  0.22\n",
      "3                 Choice       0.00    0.00  0.00\n",
      "4           Co-Existence       0.31    0.68  0.39\n",
      "5                    End       0.24    0.84  0.35\n",
      "6       Exclusive Choice       0.00    0.00  0.00\n",
      "7                   Init       0.20    0.85  0.31\n",
      "8             Precedence       0.09    0.70  0.14\n",
      "9               Response       0.07    0.68  0.12\n",
      "10            Succession       0.14    0.68  0.22\n",
      "-----  DECLAREMINER_evf  -----\n"
     ]
    },
    {
     "name": "stderr",
     "output_type": "stream",
     "text": [
      "process evaluation: 100%|██████████| 4055/4055 [00:47<00:00, 85.88it/s] \n"
     ]
    },
    {
     "name": "stdout",
     "output_type": "stream",
     "text": [
      "precision    0.37\n",
      "recall       0.69\n",
      "f1           0.46\n",
      "dtype: float64\n",
      "-----  DECLAREMINER_seperated  -----\n"
     ]
    },
    {
     "name": "stderr",
     "output_type": "stream",
     "text": [
      "process evaluation: 100%|██████████| 4055/4055 [00:12<00:00, 326.92it/s]\n"
     ]
    },
    {
     "name": "stdout",
     "output_type": "stream",
     "text": [
      "         constraint_type  precision  recall    f1\n",
      "0   Alternate Precedence       0.03    0.06  0.03\n",
      "1     Alternate Response       0.02    0.06  0.02\n",
      "2   Alternate Succession       0.00    0.00  0.00\n",
      "3                 Choice       0.15    0.70  0.24\n",
      "4           Co-Existence       0.00    0.00  0.00\n",
      "5                    End       0.69    0.76  0.70\n",
      "6       Exclusive Choice       0.00    0.00  0.00\n",
      "7                   Init       0.76    0.81  0.76\n",
      "8             Precedence       0.13    0.70  0.20\n",
      "9               Response       0.10    0.68  0.16\n",
      "10            Succession       0.00    0.00  0.00\n",
      "-----  xSemAD_evf  -----\n"
     ]
    },
    {
     "name": "stderr",
     "output_type": "stream",
     "text": [
      "process evaluation: 100%|██████████| 4055/4055 [00:44<00:00, 90.97it/s] \n"
     ]
    },
    {
     "name": "stdout",
     "output_type": "stream",
     "text": [
      "precision    0.63\n",
      "recall       0.78\n",
      "f1           0.67\n",
      "dtype: float64\n",
      "-----  xSemAD_seperated  -----\n"
     ]
    },
    {
     "name": "stderr",
     "output_type": "stream",
     "text": [
      "process evaluation: 100%|██████████| 4055/4055 [00:09<00:00, 441.10it/s]\n"
     ]
    },
    {
     "name": "stdout",
     "output_type": "stream",
     "text": [
      "         constraint_type  precision  recall    f1\n",
      "0   Alternate Precedence       0.47    0.75  0.52\n",
      "1     Alternate Response       0.52    0.68  0.54\n",
      "2   Alternate Succession       0.51    0.70  0.54\n",
      "3                 Choice       0.47    0.57  0.46\n",
      "4           Co-Existence       0.58    0.74  0.60\n",
      "5                    End       0.70    0.73  0.69\n",
      "6       Exclusive Choice       0.43    0.69  0.48\n",
      "7                   Init       0.63    0.76  0.66\n",
      "8             Precedence       0.51    0.74  0.56\n",
      "9               Response       0.55    0.64  0.56\n",
      "10            Succession       0.55    0.65  0.55\n",
      "-----  SVM_evf_unseen  -----\n"
     ]
    },
    {
     "name": "stderr",
     "output_type": "stream",
     "text": [
      "process evaluation: 100%|██████████| 335/335 [00:00<00:00, 346.03it/s]\n"
     ]
    },
    {
     "name": "stdout",
     "output_type": "stream",
     "text": [
      "precision    0.32\n",
      "recall       0.61\n",
      "f1           0.40\n",
      "dtype: float64\n",
      "-----  BERT_evf_unseen  -----\n"
     ]
    },
    {
     "name": "stderr",
     "output_type": "stream",
     "text": [
      "process evaluation: 100%|██████████| 335/335 [00:00<00:00, 399.84it/s]\n"
     ]
    },
    {
     "name": "stdout",
     "output_type": "stream",
     "text": [
      "precision    0.32\n",
      "recall       0.61\n",
      "f1           0.40\n",
      "dtype: float64\n",
      "-----  MINERFUL_evf_unseen  -----\n"
     ]
    },
    {
     "name": "stderr",
     "output_type": "stream",
     "text": [
      "process evaluation: 100%|██████████| 335/335 [00:03<00:00, 100.02it/s]\n"
     ]
    },
    {
     "name": "stdout",
     "output_type": "stream",
     "text": [
      "precision    0.32\n",
      "recall       0.60\n",
      "f1           0.40\n",
      "dtype: float64\n",
      "-----  DECLAREMINER_evf_unseen  -----\n"
     ]
    },
    {
     "name": "stderr",
     "output_type": "stream",
     "text": [
      "process evaluation: 100%|██████████| 335/335 [00:00<00:00, 392.55it/s]\n"
     ]
    },
    {
     "name": "stdout",
     "output_type": "stream",
     "text": [
      "precision    0.32\n",
      "recall       0.60\n",
      "f1           0.40\n",
      "dtype: float64\n",
      "-----  xSemAD_evf_unseen  -----\n"
     ]
    },
    {
     "name": "stderr",
     "output_type": "stream",
     "text": [
      "process evaluation: 100%|██████████| 335/335 [00:00<00:00, 477.65it/s]\n"
     ]
    },
    {
     "name": "stdout",
     "output_type": "stream",
     "text": [
      "precision    0.53\n",
      "recall       0.74\n",
      "f1           0.58\n",
      "dtype: float64\n",
      "-----  MINERFUL_seperated_unseen  -----\n"
     ]
    },
    {
     "name": "stderr",
     "output_type": "stream",
     "text": [
      "process evaluation: 100%|██████████| 335/335 [00:03<00:00, 110.77it/s]\n"
     ]
    },
    {
     "name": "stdout",
     "output_type": "stream",
     "text": [
      "         constraint_type  precision  recall    f1\n",
      "0   Alternate Precedence       0.10    0.62  0.16\n",
      "1     Alternate Response       0.05    0.50  0.09\n",
      "2   Alternate Succession       0.12    0.60  0.18\n",
      "3                 Choice       0.00    0.00  0.00\n",
      "4           Co-Existence       0.28    0.61  0.35\n",
      "5                    End       0.24    0.72  0.34\n",
      "6       Exclusive Choice       0.00    0.00  0.00\n",
      "7                   Init       0.20    0.79  0.31\n",
      "8             Precedence       0.10    0.62  0.16\n",
      "9               Response       0.05    0.50  0.09\n",
      "10            Succession       0.12    0.60  0.18\n",
      "-----  DECLAREMINER_seperated_unseen  -----\n"
     ]
    },
    {
     "name": "stderr",
     "output_type": "stream",
     "text": [
      "process evaluation: 100%|██████████| 335/335 [00:00<00:00, 393.50it/s]\n"
     ]
    },
    {
     "name": "stdout",
     "output_type": "stream",
     "text": [
      "         constraint_type  precision  recall    f1\n",
      "0   Alternate Precedence       0.02    0.04  0.02\n",
      "1     Alternate Response       0.01    0.03  0.01\n",
      "2   Alternate Succession       0.00    0.00  0.00\n",
      "3                 Choice       0.14    0.59  0.22\n",
      "4           Co-Existence       0.00    0.00  0.00\n",
      "5                    End       0.58    0.64  0.59\n",
      "6       Exclusive Choice       0.00    0.00  0.00\n",
      "7                   Init       0.70    0.77  0.71\n",
      "8             Precedence       0.14    0.61  0.21\n",
      "9               Response       0.08    0.50  0.12\n",
      "10            Succession       0.00    0.00  0.00\n",
      "-----  xSemAD_evf_unseen_065  -----\n"
     ]
    },
    {
     "name": "stderr",
     "output_type": "stream",
     "text": [
      "process evaluation: 100%|██████████| 335/335 [00:00<00:00, 434.22it/s]\n"
     ]
    },
    {
     "name": "stdout",
     "output_type": "stream",
     "text": [
      "precision    0.50\n",
      "recall       0.79\n",
      "f1           0.57\n",
      "dtype: float64\n",
      "-----  xSemAD_seperated_unseen_065  -----\n"
     ]
    },
    {
     "name": "stderr",
     "output_type": "stream",
     "text": [
      "process evaluation: 100%|██████████| 335/335 [00:00<00:00, 412.15it/s]\n"
     ]
    },
    {
     "name": "stdout",
     "output_type": "stream",
     "text": [
      "         constraint_type  precision  recall    f1\n",
      "0   Alternate Precedence       0.21    0.66  0.29\n",
      "1     Alternate Response       0.18    0.52  0.24\n",
      "2   Alternate Succession       0.22    0.59  0.28\n",
      "3                 Choice       0.25    0.63  0.33\n",
      "4           Co-Existence       0.39    0.73  0.46\n",
      "5                    End       0.45    0.68  0.50\n",
      "6       Exclusive Choice       0.18    0.70  0.26\n",
      "7                   Init       0.36    0.71  0.45\n",
      "8             Precedence       0.21    0.67  0.30\n",
      "9               Response       0.19    0.47  0.25\n",
      "10            Succession       0.23    0.58  0.30\n"
     ]
    }
   ],
   "source": [
    "for model in models:\n",
    "    print('----- ', model[3],' -----')\n",
    "    result =  evaluate_constraints(*model[:-1])\n",
    "    output_file_name= f'{model[-1]}_{model[3]}.pkl'\n",
    "    df = pd.DataFrame(result)\n",
    "    df.to_pickle(output_file_name)\n",
    "    if model[4]:\n",
    "        print(pd.read_pickle(output_file_name)[['precision','recall','f1']].mean().round(2))\n",
    "    else:\n",
    "        print(pd.read_pickle(output_file_name)[['constraint_type', 'precision', 'recall','f1']].groupby(['constraint_type']).mean().reset_index().round(2))"
   ]
  },
  {
   "cell_type": "code",
   "execution_count": null,
   "metadata": {},
   "outputs": [],
   "source": []
  }
 ],
 "metadata": {
  "kernelspec": {
   "display_name": "declare_miner",
   "language": "python",
   "name": "python3"
  },
  "language_info": {
   "codemirror_mode": {
    "name": "ipython",
    "version": 3
   },
   "file_extension": ".py",
   "mimetype": "text/x-python",
   "name": "python",
   "nbconvert_exporter": "python",
   "pygments_lexer": "ipython3",
   "version": "3.10.13"
  }
 },
 "nbformat": 4,
 "nbformat_minor": 2
}
