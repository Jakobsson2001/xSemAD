{
 "cells": [
  {
   "cell_type": "code",
   "execution_count": 1,
   "metadata": {},
   "outputs": [],
   "source": [
    "import os\n",
    "import pickle\n",
    "from tqdm import tqdm\n",
    "import numpy as np\n",
    "import pandas as pd\n",
    "from evaluation.utils import sort_constraints"
   ]
  },
  {
   "cell_type": "code",
   "execution_count": 2,
   "metadata": {},
   "outputs": [],
   "source": [
    "MODEL_NAME = 'label2constraint'\n",
    "dataset='sap_sam_2022/filtered'\n",
    "path_to_true_constraints = f'data/{dataset}/constraints_to_log_labels/'\n",
    "path_to_pred_constraints = f'data/evaluation/{dataset}/validation/new/google/flan-t5-small_checkpoint-118800/'\n",
    "constraint_type='DECLARE'\n",
    "constraints_dir = f'data/{dataset}/constraints'\n",
    "path_to_all_constraint_types_file = os.path.join(constraints_dir,f'ALL_CONSTRAINT_TYPES.{constraint_type}.pkl')\n",
    "#evaluation_output_file_name = f'evaluation_sap_sam_2022_test_{MODEL_NAME}_{anaysis_tape}.pkl'\n",
    "tresholds = np.arange(0.5,.975,.01) #[.3, .9]"
   ]
  },
  {
   "cell_type": "code",
   "execution_count": 3,
   "metadata": {},
   "outputs": [],
   "source": [
    "#with open('../../ml-semantic-anomaly-dection/evaluation_sap_sam_2022_test_case_names.pkl', 'rb') as f:\n",
    "#    model_case_names = pickle.load(f)\n",
    "model_case_names = os.listdir('data/evaluation/sap_sam_2022/filtered/validation/new/google/flan-t5-small_checkpoint-118800/')\n",
    "model_case_names = [i.split('.')[0] for i in model_case_names]\n",
    "#get all possible constraint types\n",
    "with open(path_to_all_constraint_types_file,'rb') as f:\n",
    "    all_constraint_types = pickle.load(f)"
   ]
  },
  {
   "cell_type": "code",
   "execution_count": 4,
   "metadata": {},
   "outputs": [],
   "source": [
    "def calculate_precision_recall_f1(true_list, prediction_list):\n",
    "    intersection_num = len(list(set(true_list).intersection(set(prediction_list))))\n",
    "    recall = intersection_num/len(true_list)\n",
    "    if len(prediction_list)!=0:\n",
    "        precision = intersection_num/len(prediction_list)\n",
    "        if (precision+recall)!= 0:\n",
    "            f1 = (2*precision*recall)/(precision+recall)\n",
    "            return precision, recall, f1\n",
    "        return precision, recall, 0\n",
    "    else:\n",
    "        precision = 0\n",
    "        if (precision+recall)!= 0:\n",
    "            f1 = (2*precision*recall)/(precision+recall)\n",
    "            return precision, recall, f1\n",
    "        return precision, recall, 0"
   ]
  },
  {
   "cell_type": "code",
   "execution_count": 5,
   "metadata": {},
   "outputs": [
    {
     "name": "stderr",
     "output_type": "stream",
     "text": [
      "calculate prec, rec. and f1: 100%|██████████| 6069/6069 [00:34<00:00, 176.76it/s]\n"
     ]
    }
   ],
   "source": [
    "anaysis_tape='for_comparison_set'\n",
    "evaluation_output_file_name = f'evaluation_sap_sam_2022_validation_{MODEL_NAME}_{anaysis_tape}_new.pkl'\n",
    "CONSTRAINT_TYPE=['Response', 'Precedence','Succession','Alternate Succession', 'Alternate Precedence','Alternate Response','Choice','Co-Existence']\n",
    "evaluation_results = []\n",
    "\n",
    "path_to_all_constraint_types_file = os.path.join(constraints_dir,f'ALL_CONSTRAINT_TYPES.{constraint_type}.pkl')\n",
    "with open(path_to_all_constraint_types_file,'rb') as f:\n",
    "    all_constraint_types = pickle.load(f)\n",
    "\n",
    "for model_case_name in tqdm(model_case_names,desc='calculate prec, rec. and f1'):\n",
    "    with open(f'{path_to_true_constraints}{model_case_name}.CONSTRAINTS.pkl','rb') as f:\n",
    "        true_constraints = sort_constraints(pickle.load(f), remove_duplicates=True)\n",
    "        all_constraint_types_in_model = list(set([i.split('[')[0] for i in true_constraints]))\n",
    "\n",
    "    with open(f'{path_to_pred_constraints}{model_case_name}.pkl','rb') as f:\n",
    "        pred_file = pickle.load(f)\n",
    "    pred_pairs_file=[]\n",
    "    for i in pred_file:\n",
    "        pred_pairs_file+=i[1]\n",
    "    \n",
    "    for treshold in tresholds:\n",
    "        pred_pairs_temp = [i for i in pred_pairs_file if i[1]>treshold]\n",
    "        \n",
    "        true_pairs=[]\n",
    "        pred_pairs=[]\n",
    "        for c in list(all_constraint_types):\n",
    "            if c in CONSTRAINT_TYPE:\n",
    "                true_pairs_ = [i.split('[')[1][:-1] for i in true_constraints if i.startswith(c+ '[') ]\n",
    "                true_pairs+=true_pairs_\n",
    "                pred_pairs_ = [i[0].split('[')[1][:-1] for i in pred_pairs_temp if i[0].startswith(c+ '[')] \n",
    "                pred_pairs+=pred_pairs_\n",
    "        if len(true_pairs)>0:\n",
    "            precision, recall, f1 = calculate_precision_recall_f1(true_list=list(set(true_pairs)), prediction_list=list(set(pred_pairs)))\n",
    "            evaluation_results.append({'constraint_type':anaysis_tape, 'model':MODEL_NAME,'threshold':treshold, 'precision':precision,'recall':recall,'f1':f1, 'case_name':model_case_name})\n",
    "                   \n",
    "df = pd.DataFrame(evaluation_results)\n",
    "df.to_pickle(evaluation_output_file_name)   "
   ]
  },
  {
   "cell_type": "code",
   "execution_count": 6,
   "metadata": {},
   "outputs": [
    {
     "data": {
      "text/plain": [
       "5806"
      ]
     },
     "execution_count": 6,
     "metadata": {},
     "output_type": "execute_result"
    }
   ],
   "source": [
    "len(df.case_name.unique())"
   ]
  },
  {
   "cell_type": "code",
   "execution_count": 7,
   "metadata": {},
   "outputs": [
    {
     "name": "stderr",
     "output_type": "stream",
     "text": [
      "make predictions: 100%|██████████| 6069/6069 [00:11<00:00, 542.03it/s]\n"
     ]
    }
   ],
   "source": [
    "anaysis_tape='seperated'\n",
    "evaluation_output_file_name = f'evaluation_sap_sam_2022_validation_{MODEL_NAME}_{anaysis_tape}_new.pkl'\n",
    "CONSTRAINT_TYPE=['Response', 'Precedence','Succession','Alternate Succession', 'Alternate Precedence','Alternate Response','Choice','Co-Existence']\n",
    "evaluation_results = []\n",
    "\n",
    "\n",
    "path_to_all_constraint_types_file = os.path.join(constraints_dir,f'ALL_CONSTRAINT_TYPES.{constraint_type}.pkl')\n",
    "with open(path_to_all_constraint_types_file,'rb') as f:\n",
    "    all_constraint_types = pickle.load(f)\n",
    "\n",
    "for model_case_name in tqdm(model_case_names,desc='make predictions'):\n",
    "    with open(f'{path_to_true_constraints}{model_case_name}.CONSTRAINTS.pkl','rb') as f:\n",
    "        true_constraints = sort_constraints(pickle.load(f), remove_duplicates=True)\n",
    "        all_constraint_types_in_model = list(set([i.split('[')[0] for i in true_constraints]))\n",
    "\n",
    "    with open(f'{path_to_pred_constraints}{model_case_name}.pkl','rb') as f:\n",
    "        pred_file = pickle.load(f)\n",
    "    pred_pairs_file=[]\n",
    "    for i in pred_file:\n",
    "        pred_pairs_file+=i[1]\n",
    "        \n",
    "    for c in list(all_constraint_types):\n",
    "        if c in all_constraint_types_in_model:\n",
    "            true_pairs = [i.split('[')[1][:-1] for i in true_constraints if i.startswith(c+ '[') ]\n",
    "            pred_pairs_temp = [i for i in pred_pairs_file if i[0].startswith(c+ '[')] \n",
    "            for treshold in tresholds:\n",
    "                pred_pairs = [i[0].split('[')[1][:-1] for i in pred_pairs_temp if i[1]>treshold]\n",
    "                if len(true_pairs)>0:\n",
    "                    precision, recall,f1 = calculate_precision_recall_f1(true_list=true_pairs, prediction_list=pred_pairs)\n",
    "                    evaluation_results.append({'constraint_type':c, 'model':MODEL_NAME,'threshold':treshold, 'precision':precision,'recall':recall, 'f1':f1, 'case_name':model_case_name})\n",
    "                   \n",
    "df = pd.DataFrame(evaluation_results)\n",
    "df.to_pickle(evaluation_output_file_name)   "
   ]
  },
  {
   "cell_type": "code",
   "execution_count": 8,
   "metadata": {},
   "outputs": [
    {
     "name": "stdout",
     "output_type": "stream",
     "text": [
      "{'Alternate Precedence': 0.8300000000000003, 'Alternate Response': 0.7800000000000002, 'Alternate Succession': 0.7600000000000002, 'Choice': 0.7100000000000002, 'Co-Existence': 0.7500000000000002, 'End': 0.7000000000000002, 'Exclusive Choice': 0.7700000000000002, 'Init': 0.7700000000000002, 'Precedence': 0.8000000000000003, 'Response': 0.7400000000000002, 'Succession': 0.7100000000000002}\n"
     ]
    }
   ],
   "source": [
    "#get the best threshold for each constraint \n",
    "import pickle\n",
    "d = df[['constraint_type', 'threshold', 'precision', 'recall','f1']].groupby(['threshold','constraint_type']).mean().reset_index()\n",
    "thresholds_constraints = {}\n",
    "for constraint in d.constraint_type.unique():\n",
    "    #print(constraint)\n",
    "    #print(d.iloc[d[d['constraint_type']==constraint]['f1'].idxmax()]['threshold'])\n",
    "    thresholds_constraints[constraint]=d.iloc[d[d['constraint_type']==constraint]['f1'].idxmax()]['threshold']\n",
    "print(thresholds_constraints)\n",
    "with open('evaluation_sap_sam_2022_validation_opt_thresholds.pkl', 'wb') as f:\n",
    "    pickle.dump(thresholds_constraints, f)"
   ]
  },
  {
   "cell_type": "code",
   "execution_count": 9,
   "metadata": {},
   "outputs": [
    {
     "name": "stderr",
     "output_type": "stream",
     "text": [
      "make predictions: 100%|██████████| 6069/6069 [00:36<00:00, 166.50it/s]\n"
     ]
    }
   ],
   "source": [
    "anaysis_tape='for_comparison_overall_performance'\n",
    "evaluation_output_file_name = f'evaluation_sap_sam_2022_validation_{MODEL_NAME}_{anaysis_tape}_new.pkl'\n",
    "CONSTRAINT_TYPE=['Alternate Precedence',\n",
    " 'Alternate Response',\n",
    " 'Alternate Succession',\n",
    " 'Choice',\n",
    " 'Co-Existence',\n",
    " 'End',\n",
    " 'Exclusive Choice',\n",
    " 'Init',\n",
    " 'Precedence',\n",
    " 'Response',\n",
    " 'Succession']\n",
    "evaluation_results = []\n",
    "\n",
    "\n",
    "path_to_all_constraint_types_file = os.path.join(constraints_dir,f'ALL_CONSTRAINT_TYPES.{constraint_type}.pkl')\n",
    "with open(path_to_all_constraint_types_file,'rb') as f:\n",
    "    all_constraint_types = pickle.load(f)\n",
    "\n",
    "for model_case_name in tqdm(model_case_names,desc='make predictions'):\n",
    "    with open(f'{path_to_true_constraints}{model_case_name}.CONSTRAINTS.pkl','rb') as f:\n",
    "        true_constraints = sort_constraints(pickle.load(f), remove_duplicates=True)\n",
    "        all_constraint_types_in_model = list(set([i.split('[')[0] for i in true_constraints]))\n",
    "\n",
    "    with open(f'{path_to_pred_constraints}{model_case_name}.pkl','rb') as f:\n",
    "        pred_file = pickle.load(f)\n",
    "    pred_pairs_file=[]\n",
    "    for i in pred_file:\n",
    "        pred_pairs_file+=i[1]\n",
    "    \n",
    "    for treshold in tresholds:\n",
    "        pred_pairs_temp = [i for i in pred_pairs_file if i[1]>treshold]\n",
    "        \n",
    "        true_pairs=[]\n",
    "        pred_pairs=[]\n",
    "        for c in list(all_constraint_types):\n",
    "            if c in CONSTRAINT_TYPE:\n",
    "                true_pairs_ = [i for i in true_constraints if i.startswith(c+ '[') ]\n",
    "                true_pairs+=true_pairs_\n",
    "                pred_pairs_ = [i[0] for i in pred_pairs_temp if i[0].startswith(c+ '[')] \n",
    "                pred_pairs+=pred_pairs_\n",
    "        if len(true_pairs)>0:\n",
    "            precision, recall,f1 = calculate_precision_recall_f1(true_list=true_pairs, prediction_list=pred_pairs)\n",
    "            evaluation_results.append({'constraint_type':anaysis_tape, 'model':MODEL_NAME,'threshold':treshold, 'precision':precision,'recall':recall,'f1':f1, 'case_name':model_case_name})\n",
    "                   \n",
    "df = pd.DataFrame(evaluation_results)\n",
    "df.to_pickle(evaluation_output_file_name)   "
   ]
  },
  {
   "cell_type": "code",
   "execution_count": null,
   "metadata": {},
   "outputs": [],
   "source": []
  },
  {
   "cell_type": "code",
   "execution_count": null,
   "metadata": {},
   "outputs": [],
   "source": []
  },
  {
   "cell_type": "code",
   "execution_count": null,
   "metadata": {},
   "outputs": [],
   "source": []
  }
 ],
 "metadata": {
  "kernelspec": {
   "display_name": "transformer4bpm",
   "language": "python",
   "name": "python3"
  },
  "language_info": {
   "codemirror_mode": {
    "name": "ipython",
    "version": 3
   },
   "file_extension": ".py",
   "mimetype": "text/x-python",
   "name": "python",
   "nbconvert_exporter": "python",
   "pygments_lexer": "ipython3",
   "version": "3.8.13"
  }
 },
 "nbformat": 4,
 "nbformat_minor": 2
}
